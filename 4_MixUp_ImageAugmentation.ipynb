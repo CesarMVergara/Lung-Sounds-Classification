{
 "cells": [
  {
   "cell_type": "code",
   "execution_count": 1,
   "id": "861719f1-4bf7-4961-b36f-37cab3cbd6ad",
   "metadata": {},
   "outputs": [],
   "source": [
    "import os\n",
    "import numpy as np\n",
    "from PIL import Image\n",
    "\n",
    "# Rutas de las carpetas y ratios de mezcla\n",
    "spectrogram_folders = {\n",
    "    ('./OfficialSpectrogramsMelAUG/train/crackle', './OfficialSpectrogramsMelAUG/train/normal', './OfficialSpectrogramsMelAUG/train/crackle'): 0.5,\n",
    "    ('./OfficialSpectrogramsMelAUG/train/wheeze', './OfficialSpectrogramsMelAUG/train/normal', './OfficialSpectrogramsMelAUG/train/wheeze'): 1,\n",
    "    ('./OfficialSpectrogramsMelAUG/train/crackle', './OfficialSpectrogramsMelAUG/train/wheeze', './OfficialSpectrogramsMelAUG/train/crackle_wheeze'): 1\n",
    "}\n",
    "destination_folder = './OfficialSpectrogramsMelAUG/train'\n",
    "\n",
    "# Función para mezclar espectrogramas y guardar\n",
    "def mixup_and_save(folder1, folder2, output_folder, ratio):\n",
    "    if not os.path.exists(destination_folder):\n",
    "        os.makedirs(destination_folder)\n",
    "\n",
    "    # Obtener lista de espectrogramas originales (excluir los aumentados y los ya mezclados)\n",
    "    spectrograms1 = [f for f in os.listdir(folder1) if not (f.startswith(('pitch_shift', 'random_shift', 'volume_adjust', 'time_stretch', 'mixup')))]\n",
    "    spectrograms2 = [f for f in os.listdir(folder2) if not (f.startswith(('pitch_shift', 'random_shift', 'volume_adjust', 'time_stretch', 'mixup')))]\n",
    "\n",
    "    # Seleccionar aleatoriamente espectrogramas para mezclar según el ratio\n",
    "    num_samples = int(len(spectrograms1) * ratio)\n",
    "    selected_spectrograms1 = np.random.choice(spectrograms1, num_samples, replace=False)\n",
    "\n",
    "    # Realizar mixup y guardar\n",
    "    for spectrogram1 in selected_spectrograms1:\n",
    "        # Seleccionar aleatoriamente un espectrograma de folder2 para mezclar\n",
    "        spectrogram2 = np.random.choice(spectrograms2)\n",
    "        \n",
    "        # Cargar espectrogramas\n",
    "        spec1 = Image.open(os.path.join(folder1, spectrogram1))\n",
    "        spec2 = Image.open(os.path.join(folder2, spectrogram2))\n",
    "\n",
    "        # Realizar mixup\n",
    "        alpha = np.random.beta(0.4, 0.4)\n",
    "        mixed_spec = Image.blend(spec1, spec2, alpha)\n",
    "\n",
    "        # Guardar espectrograma mezclado\n",
    "        mixed_spec_filename = f\"mixup_{spectrogram1[:-4]}_{spectrogram2[:-4]}.png\"\n",
    "        mixed_spec_path = os.path.join(output_folder, mixed_spec_filename)\n",
    "        mixed_spec.save(mixed_spec_path)\n",
    "\n",
    "# Realizar mixup para cada configuración\n",
    "for folders, ratio in spectrogram_folders.items():\n",
    "    folder1, folder2, output_folder = folders\n",
    "    mixup_and_save(folder1, folder2, output_folder, ratio)"
   ]
  }
 ],
 "metadata": {
  "kernelspec": {
   "display_name": "Python 3 (ipykernel)",
   "language": "python",
   "name": "python3"
  },
  "language_info": {
   "codemirror_mode": {
    "name": "ipython",
    "version": 3
   },
   "file_extension": ".py",
   "mimetype": "text/x-python",
   "name": "python",
   "nbconvert_exporter": "python",
   "pygments_lexer": "ipython3",
   "version": "3.9.18"
  }
 },
 "nbformat": 4,
 "nbformat_minor": 5
}
