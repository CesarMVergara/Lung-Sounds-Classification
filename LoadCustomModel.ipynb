{
 "cells": [
  {
   "cell_type": "code",
   "execution_count": 1,
   "id": "11d13de5-77d7-4e25-9e8c-2108e2500c67",
   "metadata": {},
   "outputs": [
    {
     "name": "stdout",
     "output_type": "stream",
     "text": [
      "INFO:tensorflow:Mixed precision compatibility check (mixed_float16): OK\n",
      "Your GPU will likely run quickly with dtype policy mixed_float16 as it has compute capability of at least 7.0. Your GPU: NVIDIA GeForce RTX 4090, compute capability 8.9\n",
      "Found 8544 images belonging to 4 classes.\n",
      "Found 2756 images belonging to 4 classes.\n",
      "Found 8544 images belonging to 4 classes.\n",
      "Found 2756 images belonging to 4 classes.\n",
      "86/86 [==============================] - 13s 132ms/step - loss: 1.2894 - accuracy: 0.5312\n",
      "Validation loss: 1.2894116640090942\n",
      "Validation accuracy: 0.53125\n"
     ]
    }
   ],
   "source": [
    "SEED = 42\n",
    "import os\n",
    "os.environ['PYTHONHASHSEED'] = str(SEED)\n",
    "import numpy as np\n",
    "import random\n",
    "import tensorflow as tf\n",
    "from tensorflow.keras.preprocessing.image import ImageDataGenerator\n",
    "from tensorflow.keras.models import load_model\n",
    "\n",
    "def reset_seeds():\n",
    "    np.random.seed(SEED)  # Establecer la semilla para el generador de números aleatorios de Numpy\n",
    "    tf.random.set_seed(SEED)  # Establecer la semilla para el generador de números aleatorios de TensorFlow\n",
    "    random.seed(SEED)  # Establecer la semilla para el generador de números aleatorios de Python\n",
    "\n",
    "reset_seeds()\n",
    "\n",
    "policy = tf.keras.mixed_precision.Policy('mixed_float16')\n",
    "tf.keras.mixed_precision.set_global_policy(policy)\n",
    "\n",
    "# Ruta al directorio del conjunto de datos de validación\n",
    "train_loc_vgg19 = './OfficialSpectrogramsMelAUG/train'\n",
    "test_loc_vgg19 = './OfficialSpectrogramsMelAUG/test'\n",
    "\n",
    "train_loc_vgg16 = './OfficialSpectrogramsMelAUG/train'\n",
    "test_loc_vgg16 = './OfficialSpectrogramsMelAUG/test'\n",
    "\n",
    "# Definir la normalización\n",
    "train_datagen = ImageDataGenerator(\n",
    "    rescale=1./255,\n",
    ")\n",
    "\n",
    "test_datagen = ImageDataGenerator(\n",
    "    rescale=1./255,\n",
    ")\n",
    "\n",
    "# Crear los generadores de datos para VGG19\n",
    "train_generator_vgg19 = train_datagen.flow_from_directory(\n",
    "    directory=train_loc_vgg19,\n",
    "    target_size=(224, 224),\n",
    "    shuffle=True,\n",
    "    seed=SEED\n",
    ")\n",
    "\n",
    "test_generator_vgg19 = test_datagen.flow_from_directory(\n",
    "    directory=test_loc_vgg19,\n",
    "    target_size=(224, 224),\n",
    "    shuffle=False,\n",
    "    seed=SEED\n",
    ")\n",
    "\n",
    "# Crear los generadores de datos para VGG16\n",
    "train_generator_vgg16 = train_datagen.flow_from_directory(\n",
    "    directory=train_loc_vgg16,\n",
    "    target_size=(224, 224),\n",
    "    shuffle=True,\n",
    "    seed=SEED\n",
    ")\n",
    "\n",
    "test_generator_vgg16 = test_datagen.flow_from_directory(\n",
    "    directory=test_loc_vgg16,\n",
    "    target_size=(224, 224),\n",
    "    shuffle=False,\n",
    "    seed=SEED\n",
    ")\n",
    "\n",
    "# Crear un generador combinado para los datos de validación\n",
    "def combined_generator(generator1, generator2):\n",
    "    while True:\n",
    "        batch1 = next(generator1)\n",
    "        batch2 = next(generator2)\n",
    "        yield [batch1[0], batch2[0]], batch1[1]\n",
    "\n",
    "validation_combined_generator = combined_generator(test_generator_vgg19, test_generator_vgg16)\n",
    "\n",
    "# Cargar el modelo guardado\n",
    "model = load_model('./Best_Models/Tests/RMSprop/Custom_RMSprop_00005')\n",
    "\n",
    "# Evaluar el modelo en el conjunto de datos de validación\n",
    "steps = test_generator_vgg19.samples // test_generator_vgg19.batch_size\n",
    "loss, accuracy = model.evaluate(validation_combined_generator, steps=steps)\n",
    "print(\"Validation loss:\", loss)\n",
    "print(\"Validation accuracy:\", accuracy)"
   ]
  },
  {
   "cell_type": "code",
   "execution_count": 2,
   "id": "aece99bb-9fbb-4ade-a61c-135e0e4288d5",
   "metadata": {},
   "outputs": [
    {
     "name": "stdout",
     "output_type": "stream",
     "text": [
      "86/86 [==============================] - 10s 110ms/step\n",
      "Accuracy: 0.53125\n",
      "Precision: 0.5203749013488839\n",
      "Recall: 0.53125\n",
      "F1 Score: 0.5204390231093107\n",
      "Puntaje de Sensibilidad (Se): 0.28388746803069054\n",
      "Puntaje de Especificidad (Sp): 0.7150094996833439\n",
      "Puntaje promedio: 0.49944848385701723\n"
     ]
    }
   ],
   "source": [
    "from sklearn.metrics import confusion_matrix, classification_report, accuracy_score, precision_score, recall_score, f1_score\n",
    "\n",
    "validation_steps = test_generator_vgg19.samples // test_generator_vgg19.batch_size\n",
    "\n",
    "# Predicciones en el conjunto de prueba\n",
    "predictions = model.predict(validation_combined_generator, steps=validation_steps)\n",
    "\n",
    "# Obtener las etiquetas verdaderas del conjunto de prueba\n",
    "y_true = test_generator_vgg19.classes[:len(predictions)]  # Asegúrate de que la longitud coincida\n",
    "\n",
    "# Convertir las predicciones en etiquetas de clase\n",
    "y_pred_classes = np.argmax(predictions, axis=1)\n",
    "\n",
    "# Calcular métricas\n",
    "accuracy = accuracy_score(y_true, y_pred_classes)\n",
    "precision = precision_score(y_true, y_pred_classes, average='weighted')\n",
    "recall = recall_score(y_true, y_pred_classes, average='weighted')\n",
    "f1 = f1_score(y_true, y_pred_classes, average='weighted')\n",
    "\n",
    "# Mostrar las métricas\n",
    "print(\"Accuracy:\", accuracy)\n",
    "print(\"Precision:\", precision)\n",
    "print(\"Recall:\", recall)\n",
    "print(\"F1 Score:\", f1)\n",
    "\n",
    "# Obtener el número total de predicciones correctas para cada clase\n",
    "Pc = sum((y_true == 0) & (y_pred_classes == 0))  # Crackle\n",
    "Pb = sum((y_true == 1) & (y_pred_classes == 1))  # Both\n",
    "Pn = sum((y_true == 2) & (y_pred_classes == 2))  # Normal\n",
    "Pw = sum((y_true == 3) & (y_pred_classes == 3))  # Wheeze\n",
    "\n",
    "# Obtener el total de muestras para cada clase\n",
    "Crackle_total = sum(y_true == 0)  # Total de muestras de la clase Crackle\n",
    "Both_total = sum(y_true == 1)     # Total de muestras de la clase Both\n",
    "Normal_total = sum(y_true == 2)   # Total de muestras de la clase Normal\n",
    "Wheeze_total = sum(y_true == 3)   # Total de muestras de la clase Wheeze\n",
    "\n",
    "# Calcular el puntaje Se (Sensibilidad)\n",
    "Se = (Pc + Pw + Pb) / (Crackle_total + Wheeze_total + Both_total)\n",
    "\n",
    "# Calcular el puntaje Sp (Especificidad)\n",
    "Sp = Pn / Normal_total\n",
    "\n",
    "# Calcular el puntaje promedio\n",
    "score = (Se + Sp) / 2\n",
    "\n",
    "# Mostrar los resultados\n",
    "print(\"Puntaje de Sensibilidad (Se):\", Se)\n",
    "print(\"Puntaje de Especificidad (Sp):\", Sp)\n",
    "print(\"Puntaje promedio:\", score)"
   ]
  },
  {
   "cell_type": "code",
   "execution_count": 3,
   "id": "2f3068c6-e1b1-4411-8702-5918435eff46",
   "metadata": {},
   "outputs": [
    {
     "name": "stdout",
     "output_type": "stream",
     "text": [
      "Class names: ['crackle', 'crackle_wheeze', 'normal', 'wheeze']\n",
      "Classification Report:\n",
      "                precision    recall  f1-score   support\n",
      "\n",
      "       crackle       0.45      0.30      0.36       649\n",
      "crackle_wheeze       0.23      0.32      0.27       143\n",
      "        normal       0.64      0.72      0.67      1579\n",
      "        wheeze       0.27      0.25      0.26       381\n",
      "\n",
      "      accuracy                           0.53      2752\n",
      "     macro avg       0.40      0.40      0.39      2752\n",
      "  weighted avg       0.52      0.53      0.52      2752\n",
      "\n"
     ]
    }
   ],
   "source": [
    "# Generar el informe de clasificación\n",
    "class_names = list(train_generator_vgg19.class_indices.keys())\n",
    "print(\"Class names:\", class_names)\n",
    "class_report = classification_report(y_true, y_pred_classes, target_names=class_names)\n",
    "print(\"Classification Report:\")\n",
    "print(class_report)"
   ]
  },
  {
   "cell_type": "code",
   "execution_count": 4,
   "id": "374b197f-c957-41e8-ac13-3066294ef83e",
   "metadata": {},
   "outputs": [
    {
     "data": {
      "image/png": "[encoded data removed]",
      "text/plain": [
       "<Figure size 800x600 with 2 Axes>"
      ]
     },
     "metadata": {},
     "output_type": "display_data"
    }
   ],
   "source": [
    "import seaborn as sns\n",
    "import matplotlib.pyplot as plt\n",
    "\n",
    "# Función para mostrar la matriz de confusión\n",
    "def plot_confusion_matrix(y_true, y_pred, class_names):\n",
    "    conf_matrix = confusion_matrix(y_true, y_pred)\n",
    "    plt.figure(figsize=(8, 6))\n",
    "    sns.heatmap(conf_matrix, annot=True, fmt='d', cmap='Blues', xticklabels=class_names, yticklabels=class_names)\n",
    "    plt.title('Confusion Matrix')\n",
    "    plt.xlabel('Predicted')\n",
    "    plt.ylabel('True')\n",
    "    plt.show()\n",
    "\n",
    "# Calcular y mostrar la matriz de confusión\n",
    "plot_confusion_matrix(y_true, y_pred_classes, class_names)"
   ]
  },
  {
   "cell_type": "code",
   "execution_count": null,
   "id": "975a4cda-8ab6-41c9-a2ad-0db96187af98",
   "metadata": {},
   "outputs": [],
   "source": []
  }
 ],
 "metadata": {
  "kernelspec": {
   "display_name": "Python 3 (ipykernel)",
   "language": "python",
   "name": "python3"
  },
  "language_info": {
   "codemirror_mode": {
    "name": "ipython",
    "version": 3
   },
   "file_extension": ".py",
   "mimetype": "text/x-python",
   "name": "python",
   "nbconvert_exporter": "python",
   "pygments_lexer": "ipython3",
   "version": "3.9.18"
  }
 },
 "nbformat": 4,
 "nbformat_minor": 5
}
